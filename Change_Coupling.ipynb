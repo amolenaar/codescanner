{
 "cells": [
  {
   "cell_type": "markdown",
   "source": [
    "# Quick code analysis\n",
    "\n",
    "To get going with this notebook I suggest using VS Code with Python extension.\n",
    "\n",
    "Create a virtual environment in this folder:\n",
    "\n",
    "```\n",
    "python -m venv .venv\n",
    "```\n",
    "\n",
    "Select the Python Interpreter from the venv in the quick command menu (Ctrl/Cmd + Shift + P) -> `> Python: Select Interpreter` (refresh the interpreter list or reload the window if it does not show up).\n",
    "\n",
    "Open a terminal, load the venv if that's not done automatically, and install pandas:\n",
    "\n",
    "```\n",
    "pip install pandas\n",
    "```\n",
    "\n",
    "Ensure `git` can be be found.\n",
    "\n",
    "Change the variables below to point to your repo of interest, and give this notebook a spin (VS Code may ask if it needs to install a Jupyter kernel)."
   ],
   "metadata": {}
  },
  {
   "cell_type": "code",
   "execution_count": 37,
   "source": [
    "file_to_analyse = \"gaphor.csv\"\n",
    "after = \"two months ago\"\n",
    "top = 10\n"
   ],
   "outputs": [],
   "metadata": {}
  },
  {
   "cell_type": "markdown",
   "source": [],
   "metadata": {}
  },
  {
   "cell_type": "code",
   "execution_count": 38,
   "source": [
    "import pandas\n",
    "\n",
    "# TODO: do what's done from the extractor script here\n",
    "\n",
    "df = pandas.read_csv(file_to_analyse, names=[\"date\", \"commit\", \"added\", \"removed\", \"filename\"])"
   ],
   "outputs": [],
   "metadata": {}
  },
  {
   "cell_type": "markdown",
   "source": [
    "## Churn\n",
    "\n",
    "Churn is simplyhow many times a file has changed in the history of a project. The more often it changed, the higher the \"churn\"."
   ],
   "metadata": {}
  },
  {
   "cell_type": "code",
   "execution_count": 39,
   "source": [
    "churn = df.groupby(['filename']).size().reset_index(name='counts').sort_values(\"counts\", ascending=False)\n",
    "churn[:top]"
   ],
   "outputs": [
    {
     "output_type": "execute_result",
     "data": {
      "text/html": [
       "<div>\n",
       "<style scoped>\n",
       "    .dataframe tbody tr th:only-of-type {\n",
       "        vertical-align: middle;\n",
       "    }\n",
       "\n",
       "    .dataframe tbody tr th {\n",
       "        vertical-align: top;\n",
       "    }\n",
       "\n",
       "    .dataframe thead th {\n",
       "        text-align: right;\n",
       "    }\n",
       "</style>\n",
       "<table border=\"1\" class=\"dataframe\">\n",
       "  <thead>\n",
       "    <tr style=\"text-align: right;\">\n",
       "      <th></th>\n",
       "      <th>filename</th>\n",
       "      <th>counts</th>\n",
       "    </tr>\n",
       "  </thead>\n",
       "  <tbody>\n",
       "    <tr>\n",
       "      <th>1458</th>\n",
       "      <td>poetry.lock</td>\n",
       "      <td>210</td>\n",
       "    </tr>\n",
       "    <tr>\n",
       "      <th>1459</th>\n",
       "      <td>pyproject.toml</td>\n",
       "      <td>195</td>\n",
       "    </tr>\n",
       "    <tr>\n",
       "      <th>22</th>\n",
       "      <td>.github/workflows/build.yml</td>\n",
       "      <td>151</td>\n",
       "    </tr>\n",
       "    <tr>\n",
       "      <th>1000</th>\n",
       "      <td>gaphor/ui/diagrampage.py</td>\n",
       "      <td>101</td>\n",
       "    </tr>\n",
       "    <tr>\n",
       "      <th>1186</th>\n",
       "      <td>gaphor/ui/mainwindow.py</td>\n",
       "      <td>92</td>\n",
       "    </tr>\n",
       "    <tr>\n",
       "      <th>1190</th>\n",
       "      <td>gaphor/ui/namespace.py</td>\n",
       "      <td>92</td>\n",
       "    </tr>\n",
       "    <tr>\n",
       "      <th>677</th>\n",
       "      <td>gaphor/core/modeling/diagram.py</td>\n",
       "      <td>87</td>\n",
       "    </tr>\n",
       "    <tr>\n",
       "      <th>294</th>\n",
       "      <td>docs/requirements.txt</td>\n",
       "      <td>79</td>\n",
       "    </tr>\n",
       "    <tr>\n",
       "      <th>820</th>\n",
       "      <td>gaphor/diagram/presentation.py</td>\n",
       "      <td>77</td>\n",
       "    </tr>\n",
       "    <tr>\n",
       "      <th>49</th>\n",
       "      <td>README.md</td>\n",
       "      <td>76</td>\n",
       "    </tr>\n",
       "  </tbody>\n",
       "</table>\n",
       "</div>"
      ],
      "text/plain": [
       "                             filename  counts\n",
       "1458                      poetry.lock     210\n",
       "1459                   pyproject.toml     195\n",
       "22        .github/workflows/build.yml     151\n",
       "1000         gaphor/ui/diagrampage.py     101\n",
       "1186          gaphor/ui/mainwindow.py      92\n",
       "1190           gaphor/ui/namespace.py      92\n",
       "677   gaphor/core/modeling/diagram.py      87\n",
       "294             docs/requirements.txt      79\n",
       "820    gaphor/diagram/presentation.py      77\n",
       "49                          README.md      76"
      ]
     },
     "metadata": {},
     "execution_count": 39
    }
   ],
   "metadata": {}
  },
  {
   "cell_type": "markdown",
   "source": [
    "# Change Coupling\n",
    "\n",
    "Change coupling tells us which files have a tendency to change together."
   ],
   "metadata": {}
  },
  {
   "cell_type": "code",
   "execution_count": 40,
   "source": [
    "from IPython.core.display import HTML\n",
    "\n",
    "combinations = {}\n",
    "commits = {}\n",
    "\n",
    "for _, group in df.groupby(['commit']):\n",
    "    import itertools\n",
    "    for filename in group[\"filename\"]:\n",
    "        try:\n",
    "            commits[filename] += 1\n",
    "        except KeyError:\n",
    "            commits[filename] = 1\n",
    "\n",
    "    for pair in itertools.combinations(group['filename'], 2):\n",
    "        try:\n",
    "            combinations[pair] += 1\n",
    "        except KeyError:\n",
    "            combinations[pair] = 1\n",
    "\n",
    "change_coupling = sorted(((n / commits[a] + n / commits[b], n, a, b) for (a, b), n in combinations.items()),reverse=1)[:top]\n",
    "\n",
    "rows = (f\"<tr><td>{n}</td><td>{file_a}</td><td>{commits[file_a]}</td><td>{int(n / commits[file_a] * 100)}</td></tr><tr><td></td><td>{file_b}</td><td>{commits[file_b]}</td><td>{int(n / commits[file_b] * 100)}</td></tr>\" for _, n, file_a, file_b in change_coupling)\n",
    "\n",
    "HTML(f'<table><th><td>Coupled Entities</td><td>Commits</td><td>% coupling</td></tr>{\"\".join(rows)}</table>')"
   ],
   "outputs": [
    {
     "output_type": "execute_result",
     "data": {
      "text/html": [
       "<table><th><td>Coupled Entities</td><td>Commits</td><td>% coupling</td></tr><tr><td>13</td><td>po/ru.po</td><td>13</td><td>100</td></tr><tr><td></td><td>po/sv.po</td><td>13</td><td>100</td></tr><tr><td>13</td><td>po/ca.po</td><td>13</td><td>100</td></tr><tr><td></td><td>po/sv.po</td><td>13</td><td>100</td></tr><tr><td>13</td><td>po/ca.po</td><td>13</td><td>100</td></tr><tr><td></td><td>po/ru.po</td><td>13</td><td>100</td></tr><tr><td>9</td><td>gaphor/ui/icons/hicolor/scalable/actions/gaphor-extend-symbolic.svg</td><td>9</td><td>100</td></tr><tr><td></td><td>gaphor/ui/icons/hicolor/scalable/actions/gaphor-include-symbolic.svg</td><td>9</td><td>100</td></tr><tr><td>8</td><td>gaphor/ui/icons/hicolor/scalable/actions/gaphor-trace-symbolic.svg</td><td>8</td><td>100</td></tr><tr><td></td><td>gaphor/ui/icons/hicolor/scalable/actions/gaphor-verify-symbolic.svg</td><td>8</td><td>100</td></tr><tr><td>8</td><td>gaphor/ui/icons/hicolor/scalable/actions/gaphor-satisfy-symbolic.svg</td><td>8</td><td>100</td></tr><tr><td></td><td>gaphor/ui/icons/hicolor/scalable/actions/gaphor-verify-symbolic.svg</td><td>8</td><td>100</td></tr><tr><td>8</td><td>gaphor/ui/icons/hicolor/scalable/actions/gaphor-satisfy-symbolic.svg</td><td>8</td><td>100</td></tr><tr><td></td><td>gaphor/ui/icons/hicolor/scalable/actions/gaphor-trace-symbolic.svg</td><td>8</td><td>100</td></tr><tr><td>8</td><td>gaphor/ui/icons/hicolor/scalable/actions/gaphor-refine-symbolic.svg</td><td>8</td><td>100</td></tr><tr><td></td><td>gaphor/ui/icons/hicolor/scalable/actions/gaphor-verify-symbolic.svg</td><td>8</td><td>100</td></tr><tr><td>8</td><td>gaphor/ui/icons/hicolor/scalable/actions/gaphor-refine-symbolic.svg</td><td>8</td><td>100</td></tr><tr><td></td><td>gaphor/ui/icons/hicolor/scalable/actions/gaphor-trace-symbolic.svg</td><td>8</td><td>100</td></tr><tr><td>8</td><td>gaphor/ui/icons/hicolor/scalable/actions/gaphor-refine-symbolic.svg</td><td>8</td><td>100</td></tr><tr><td></td><td>gaphor/ui/icons/hicolor/scalable/actions/gaphor-satisfy-symbolic.svg</td><td>8</td><td>100</td></tr></table>"
      ],
      "text/plain": [
       "<IPython.core.display.HTML object>"
      ]
     },
     "metadata": {},
     "execution_count": 40
    }
   ],
   "metadata": {}
  },
  {
   "cell_type": "code",
   "execution_count": null,
   "source": [],
   "outputs": [],
   "metadata": {}
  }
 ],
 "metadata": {
  "orig_nbformat": 4,
  "language_info": {
   "name": "python",
   "version": "3.9.7",
   "mimetype": "text/x-python",
   "codemirror_mode": {
    "name": "ipython",
    "version": 3
   },
   "pygments_lexer": "ipython3",
   "nbconvert_exporter": "python",
   "file_extension": ".py"
  },
  "kernelspec": {
   "name": "python3",
   "display_name": "Python 3.9.7 64-bit ('.venv': venv)"
  },
  "interpreter": {
   "hash": "2d95636cdf3da0d42b8ca3ba43151c32663c906886c1ca87ca19ee178534852c"
  }
 },
 "nbformat": 4,
 "nbformat_minor": 2
}